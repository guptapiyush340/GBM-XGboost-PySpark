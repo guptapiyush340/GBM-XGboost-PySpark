{
 "cells": [
  {
   "cell_type": "markdown",
   "metadata": {},
   "source": [
    "\n",
    "# <center> PySpark with OHE using pandas\n"
   ]
  },
  {
   "cell_type": "markdown",
   "metadata": {},
   "source": [
    "## Import required functions & libraries"
   ]
  },
  {
   "cell_type": "code",
   "execution_count": 1,
   "metadata": {
    "collapsed": true
   },
   "outputs": [],
   "source": [
    "from pyspark import SparkContext\n",
    "from pyspark.sql import SQLContext\n",
    "import xgboost as xgb\n",
    "from pyspark.ml.feature import StringIndexer, VectorIndexer, VectorAssembler, SQLTransformer,OneHotEncoder\n",
    "from pyspark.ml import Pipeline\n",
    "from pyspark.ml.evaluation import BinaryClassificationEvaluator\n",
    "from pyspark.ml.tuning import ParamGridBuilder, CrossValidator\n",
    "from IPython.display import Image\n",
    "from pyspark.sql.types import StringType\n",
    "from pyspark.sql.functions import udf\n",
    "from pyspark.sql.functions import lpad\n",
    "from sklearn.model_selection import train_test_split\n",
    "from sklearn.metrics import confusion_matrix\n",
    "import pandas as pd\n",
    "import numpy as np\n",
    "import time"
   ]
  },
  {
   "cell_type": "markdown",
   "metadata": {},
   "source": [
    "## Import required Dataset"
   ]
  },
  {
   "cell_type": "code",
   "execution_count": 3,
   "metadata": {
    "collapsed": true
   },
   "outputs": [],
   "source": [
    "t_import=time.time()\n",
    "df = pd.read_csv('Delay_20k.csv',header = 0, index_col = 0)"
   ]
  },
  {
   "cell_type": "markdown",
   "metadata": {},
   "source": [
    "## Data Preparation"
   ]
  },
  {
   "cell_type": "markdown",
   "metadata": {},
   "source": [
    "### Check data type & dimensions of dataset"
   ]
  },
  {
   "cell_type": "code",
   "execution_count": 4,
   "metadata": {},
   "outputs": [
    {
     "name": "stdout",
     "output_type": "stream",
     "text": [
      "<class 'pyspark.sql.dataframe.DataFrame'>\n",
      "20000 , 30\n"
     ]
    }
   ],
   "source": [
    "t_Data_Prep=time.time()\n",
    "print(type(df))\n",
    "print(df.count(),\",\",len(df.columns))"
   ]
  },
  {
   "cell_type": "markdown",
   "metadata": {},
   "source": [
    "### Add DepDelayFlag and DepHour fields"
   ]
  },
  {
   "cell_type": "code",
   "execution_count": 5,
   "metadata": {
    "collapsed": true
   },
   "outputs": [],
   "source": [
    "df['DepDelayFlag'] = np.where(df['DepDelay']>=15, 1, 0)"
   ]
  },
  {
   "cell_type": "code",
   "execution_count": 6,
   "metadata": {
    "collapsed": true
   },
   "outputs": [],
   "source": [
    "df['CRSDepTime'] = df['CRSDepTime'].astype(str)\n",
    "df['CRSDepTime'] = df['CRSDepTime'].apply(lambda x: x.zfill(4))\n",
    "df['DepHour'] = df.CRSDepTime.str[:2]"
   ]
  },
  {
   "cell_type": "markdown",
   "metadata": {},
   "source": [
    "### Print schema"
   ]
  },
  {
   "cell_type": "code",
   "execution_count": 8,
   "metadata": {
    "scrolled": false
   },
   "outputs": [
    {
     "name": "stdout",
     "output_type": "stream",
     "text": [
      "root\n",
      " |-- Year: integer (nullable = true)\n",
      " |-- Month: integer (nullable = true)\n",
      " |-- DayofMonth: integer (nullable = true)\n",
      " |-- DayOfWeek: integer (nullable = true)\n",
      " |-- DepTime: integer (nullable = true)\n",
      " |-- CRSDepTime: integer (nullable = true)\n",
      " |-- ArrTime: string (nullable = true)\n",
      " |-- CRSArrTime: integer (nullable = true)\n",
      " |-- UniqueCarrier: string (nullable = true)\n",
      " |-- FlightNum: integer (nullable = true)\n",
      " |-- TailNum: string (nullable = true)\n",
      " |-- ActualElapsedTime: string (nullable = true)\n",
      " |-- CRSElapsedTime: string (nullable = true)\n",
      " |-- AirTime: string (nullable = true)\n",
      " |-- ArrDelay: string (nullable = true)\n",
      " |-- DepDelay: integer (nullable = true)\n",
      " |-- Origin: string (nullable = true)\n",
      " |-- Dest: string (nullable = true)\n",
      " |-- Distance: integer (nullable = true)\n",
      " |-- TaxiIn: string (nullable = true)\n",
      " |-- TaxiOut: string (nullable = true)\n",
      " |-- Cancelled: integer (nullable = true)\n",
      " |-- CancellationCode: string (nullable = true)\n",
      " |-- Diverted: integer (nullable = true)\n",
      " |-- CarrierDelay: string (nullable = true)\n",
      " |-- WeatherDelay: string (nullable = true)\n",
      " |-- NASDelay: string (nullable = true)\n",
      " |-- SecurityDelay: string (nullable = true)\n",
      " |-- LateAircraftDelay: string (nullable = true)\n",
      " |-- DepDelayFlag: integer (nullable = true)\n",
      " |-- DepHour: string (nullable = true)\n",
      "\n"
     ]
    }
   ],
   "source": [
    "df.printSchema()"
   ]
  },
  {
   "cell_type": "markdown",
   "metadata": {},
   "source": [
    "### Print first row of data"
   ]
  },
  {
   "cell_type": "code",
   "execution_count": 9,
   "metadata": {
    "scrolled": true
   },
   "outputs": [
    {
     "name": "stdout",
     "output_type": "stream",
     "text": [
      "+----+-----+----------+---------+-------+----------+-------+----------+-------------+---------+-------+-----------------+--------------+-------+--------+--------+------+----+--------+------+-------+---------+----------------+--------+------------+------------+--------+-------------+-----------------+------------+-------+\n",
      "|Year|Month|DayofMonth|DayOfWeek|DepTime|CRSDepTime|ArrTime|CRSArrTime|UniqueCarrier|FlightNum|TailNum|ActualElapsedTime|CRSElapsedTime|AirTime|ArrDelay|DepDelay|Origin|Dest|Distance|TaxiIn|TaxiOut|Cancelled|CancellationCode|Diverted|CarrierDelay|WeatherDelay|NASDelay|SecurityDelay|LateAircraftDelay|DepDelayFlag|DepHour|\n",
      "+----+-----+----------+---------+-------+----------+-------+----------+-------------+---------+-------+-----------------+--------------+-------+--------+--------+------+----+--------+------+-------+---------+----------------+--------+------------+------------+--------+-------------+-----------------+------------+-------+\n",
      "|2008|    3|        29|        6|   1435|      1425|   1550|      1530|           YV|     2630| N920FJ|               75|            65|     42|      20|      10|   CLT| SAV|     213|     5|     28|        0|               N|       0|          20|           0|       0|            0|                0|           0|     14|\n",
      "+----+-----+----------+---------+-------+----------+-------+----------+-------------+---------+-------+-----------------+--------------+-------+--------+--------+------+----+--------+------+-------+---------+----------------+--------+------------+------------+--------+-------------+-----------------+------------+-------+\n",
      "only showing top 1 row\n",
      "\n"
     ]
    }
   ],
   "source": [
    "df.show(1)"
   ]
  },
  {
   "cell_type": "markdown",
   "metadata": {},
   "source": [
    "### Statistics of columns in data"
   ]
  },
  {
   "cell_type": "code",
   "execution_count": 10,
   "metadata": {
    "scrolled": true
   },
   "outputs": [
    {
     "data": {
      "text/html": [
       "<div>\n",
       "<style>\n",
       "    .dataframe thead tr:only-child th {\n",
       "        text-align: right;\n",
       "    }\n",
       "\n",
       "    .dataframe thead th {\n",
       "        text-align: left;\n",
       "    }\n",
       "\n",
       "    .dataframe tbody tr th {\n",
       "        vertical-align: top;\n",
       "    }\n",
       "</style>\n",
       "<table border=\"1\" class=\"dataframe\">\n",
       "  <thead>\n",
       "    <tr style=\"text-align: right;\">\n",
       "      <th></th>\n",
       "      <th>summary</th>\n",
       "      <th>Year</th>\n",
       "      <th>Month</th>\n",
       "      <th>DayofMonth</th>\n",
       "      <th>DayOfWeek</th>\n",
       "      <th>DepTime</th>\n",
       "      <th>CRSDepTime</th>\n",
       "      <th>ArrTime</th>\n",
       "      <th>CRSArrTime</th>\n",
       "      <th>UniqueCarrier</th>\n",
       "      <th>...</th>\n",
       "      <th>Cancelled</th>\n",
       "      <th>CancellationCode</th>\n",
       "      <th>Diverted</th>\n",
       "      <th>CarrierDelay</th>\n",
       "      <th>WeatherDelay</th>\n",
       "      <th>NASDelay</th>\n",
       "      <th>SecurityDelay</th>\n",
       "      <th>LateAircraftDelay</th>\n",
       "      <th>DepDelayFlag</th>\n",
       "      <th>DepHour</th>\n",
       "    </tr>\n",
       "  </thead>\n",
       "  <tbody>\n",
       "    <tr>\n",
       "      <th>0</th>\n",
       "      <td>count</td>\n",
       "      <td>20000</td>\n",
       "      <td>20000</td>\n",
       "      <td>20000</td>\n",
       "      <td>20000</td>\n",
       "      <td>20000</td>\n",
       "      <td>20000</td>\n",
       "      <td>20000</td>\n",
       "      <td>20000</td>\n",
       "      <td>20000</td>\n",
       "      <td>...</td>\n",
       "      <td>20000</td>\n",
       "      <td>20000</td>\n",
       "      <td>20000</td>\n",
       "      <td>20000</td>\n",
       "      <td>20000</td>\n",
       "      <td>20000</td>\n",
       "      <td>20000</td>\n",
       "      <td>20000</td>\n",
       "      <td>20000</td>\n",
       "      <td>20000</td>\n",
       "    </tr>\n",
       "    <tr>\n",
       "      <th>1</th>\n",
       "      <td>mean</td>\n",
       "      <td>2008.0</td>\n",
       "      <td>6.064</td>\n",
       "      <td>15.6512</td>\n",
       "      <td>3.9635</td>\n",
       "      <td>1516.20085</td>\n",
       "      <td>1467.7472</td>\n",
       "      <td>1609.9583855602907</td>\n",
       "      <td>1633.8333</td>\n",
       "      <td>None</td>\n",
       "      <td>...</td>\n",
       "      <td>3.5E-4</td>\n",
       "      <td>None</td>\n",
       "      <td>0.00295</td>\n",
       "      <td>19.123442367601246</td>\n",
       "      <td>3.7969626168224297</td>\n",
       "      <td>14.982165109034268</td>\n",
       "      <td>0.11292834890965732</td>\n",
       "      <td>24.746183800623054</td>\n",
       "      <td>0.6851</td>\n",
       "      <td>14.4004</td>\n",
       "    </tr>\n",
       "    <tr>\n",
       "      <th>2</th>\n",
       "      <td>stddev</td>\n",
       "      <td>0.0</td>\n",
       "      <td>3.4653289057780996</td>\n",
       "      <td>8.805697903958512</td>\n",
       "      <td>1.9985413326656314</td>\n",
       "      <td>453.25061016512575</td>\n",
       "      <td>426.46333669031395</td>\n",
       "      <td>547.7696403543224</td>\n",
       "      <td>466.30675258941426</td>\n",
       "      <td>None</td>\n",
       "      <td>...</td>\n",
       "      <td>0.018705480339989606</td>\n",
       "      <td>None</td>\n",
       "      <td>0.05423508617333075</td>\n",
       "      <td>41.854931541285275</td>\n",
       "      <td>21.683215301413735</td>\n",
       "      <td>32.77319990903296</td>\n",
       "      <td>3.0435253392568833</td>\n",
       "      <td>41.30050344087439</td>\n",
       "      <td>0.46448765046970925</td>\n",
       "      <td>4.261336385383045</td>\n",
       "    </tr>\n",
       "    <tr>\n",
       "      <th>3</th>\n",
       "      <td>min</td>\n",
       "      <td>2008</td>\n",
       "      <td>1</td>\n",
       "      <td>1</td>\n",
       "      <td>1</td>\n",
       "      <td>1</td>\n",
       "      <td>10</td>\n",
       "      <td>1</td>\n",
       "      <td>1</td>\n",
       "      <td>9E</td>\n",
       "      <td>...</td>\n",
       "      <td>0</td>\n",
       "      <td>A</td>\n",
       "      <td>0</td>\n",
       "      <td>0</td>\n",
       "      <td>0</td>\n",
       "      <td>0</td>\n",
       "      <td>0</td>\n",
       "      <td>0</td>\n",
       "      <td>0</td>\n",
       "      <td>00</td>\n",
       "    </tr>\n",
       "    <tr>\n",
       "      <th>4</th>\n",
       "      <td>max</td>\n",
       "      <td>2008</td>\n",
       "      <td>12</td>\n",
       "      <td>31</td>\n",
       "      <td>7</td>\n",
       "      <td>2400</td>\n",
       "      <td>2359</td>\n",
       "      <td>NA</td>\n",
       "      <td>2400</td>\n",
       "      <td>YV</td>\n",
       "      <td>...</td>\n",
       "      <td>1</td>\n",
       "      <td>N</td>\n",
       "      <td>1</td>\n",
       "      <td>NA</td>\n",
       "      <td>NA</td>\n",
       "      <td>NA</td>\n",
       "      <td>NA</td>\n",
       "      <td>NA</td>\n",
       "      <td>1</td>\n",
       "      <td>23</td>\n",
       "    </tr>\n",
       "  </tbody>\n",
       "</table>\n",
       "<p>5 rows × 32 columns</p>\n",
       "</div>"
      ],
      "text/plain": [
       "  summary    Year               Month         DayofMonth           DayOfWeek  \\\n",
       "0   count   20000               20000              20000               20000   \n",
       "1    mean  2008.0               6.064            15.6512              3.9635   \n",
       "2  stddev     0.0  3.4653289057780996  8.805697903958512  1.9985413326656314   \n",
       "3     min    2008                   1                  1                   1   \n",
       "4     max    2008                  12                 31                   7   \n",
       "\n",
       "              DepTime          CRSDepTime             ArrTime  \\\n",
       "0               20000               20000               20000   \n",
       "1          1516.20085           1467.7472  1609.9583855602907   \n",
       "2  453.25061016512575  426.46333669031395   547.7696403543224   \n",
       "3                   1                  10                   1   \n",
       "4                2400                2359                  NA   \n",
       "\n",
       "           CRSArrTime UniqueCarrier        ...                     Cancelled  \\\n",
       "0               20000         20000        ...                         20000   \n",
       "1           1633.8333          None        ...                        3.5E-4   \n",
       "2  466.30675258941426          None        ...          0.018705480339989606   \n",
       "3                   1            9E        ...                             0   \n",
       "4                2400            YV        ...                             1   \n",
       "\n",
       "  CancellationCode             Diverted        CarrierDelay  \\\n",
       "0            20000                20000               20000   \n",
       "1             None              0.00295  19.123442367601246   \n",
       "2             None  0.05423508617333075  41.854931541285275   \n",
       "3                A                    0                   0   \n",
       "4                N                    1                  NA   \n",
       "\n",
       "         WeatherDelay            NASDelay        SecurityDelay  \\\n",
       "0               20000               20000                20000   \n",
       "1  3.7969626168224297  14.982165109034268  0.11292834890965732   \n",
       "2  21.683215301413735   32.77319990903296   3.0435253392568833   \n",
       "3                   0                   0                    0   \n",
       "4                  NA                  NA                   NA   \n",
       "\n",
       "    LateAircraftDelay         DepDelayFlag            DepHour  \n",
       "0               20000                20000              20000  \n",
       "1  24.746183800623054               0.6851            14.4004  \n",
       "2   41.30050344087439  0.46448765046970925  4.261336385383045  \n",
       "3                   0                    0                 00  \n",
       "4                  NA                    1                 23  \n",
       "\n",
       "[5 rows x 32 columns]"
      ]
     },
     "execution_count": 10,
     "metadata": {},
     "output_type": "execute_result"
    }
   ],
   "source": [
    "df.describe()"
   ]
  },
  {
   "cell_type": "markdown",
   "metadata": {},
   "source": [
    "### Select categorical columns and target variable "
   ]
  },
  {
   "cell_type": "code",
   "execution_count": null,
   "metadata": {
    "collapsed": true
   },
   "outputs": [],
   "source": [
    "allData = df.filter([\"Origin\",\"Dest\",\"Distance\",\"Month\",\"DayOfWeek\",\"UniqueCarrier\",\"DepHour\",\"DepDelayFlag\"],axis = 1)"
   ]
  },
  {
   "cell_type": "markdown",
   "metadata": {},
   "source": [
    "### Convert categorical columns to dummy columns using One hot encoding"
   ]
  },
  {
   "cell_type": "code",
   "execution_count": 13,
   "metadata": {},
   "outputs": [
    {
     "name": "stdout",
     "output_type": "stream",
     "text": [
      "['Origin_t', 'Dest_t', 'Distance_t', 'Month_t', 'DayOfWeek_t', 'UniqueCarrier_t', 'DepHour_t']\n"
     ]
    }
   ],
   "source": [
    "def process_categorical_features(allData):\n",
    "    dummies_origin = pd.get_dummies(allData.Origin, prefix=\"Origin\", drop_first=True)\n",
    "    dummies_dest = pd.get_dummies(allData.Dest, prefix=\"Dest\", drop_first=True)\n",
    "    dummies_distance = pd.get_dummies(allData.Distance, prefix=\"Distance\", drop_first=True)\n",
    "    dummies_month = pd.get_dummies(allData.Month, prefix=\"Month\", drop_first=True)\n",
    "    dummies_dayofweek = pd.get_dummies(allData.DayOfWeek, prefix=\"DayOfWeek\", drop_first=True)\n",
    "    dummies_uniquecarrier = pd.get_dummies(allData.UniqueCarrier, prefix=\"UniqueCarrier\", drop_first=True)\n",
    "    dummies_dephour = pd.get_dummies(allData.DepHour, prefix = \"DepHour\", drop_first=True)\n",
    "    allData.drop([\"Origin\", \"Dest\",\"Distance\",\"Month\",\"DayOfWeek\",\"UniqueCarrier\", \"DepHour\"], axis=1, inplace=True)\n",
    "    return pd.concat([allData, dummies_origin, dummies_dest,dummies_distance,dummies_month,dummies_dayofweek,dummies_uniquecarrier,dummies_dephour], axis=1)\n",
    "allData = process_categorical_features(allData)"
   ]
  },
  {
   "cell_type": "markdown",
   "metadata": {},
   "source": [
    "### Group predictors as \"x\" and response as \"y\""
   ]
  },
  {
   "cell_type": "code",
   "execution_count": 15,
   "metadata": {
    "collapsed": true
   },
   "outputs": [],
   "source": [
    "y = allData['DepDelayFlag']\n",
    "x = allData[[col for col in allData.columns if col!='DepDelayFlag']]"
   ]
  },
  {
   "cell_type": "markdown",
   "metadata": {},
   "source": [
    "## Model Development"
   ]
  },
  {
   "cell_type": "markdown",
   "metadata": {},
   "source": [
    "### Split the dataset into train & test"
   ]
  },
  {
   "cell_type": "code",
   "execution_count": 18,
   "metadata": {},
   "outputs": [
    {
     "name": "stdout",
     "output_type": "stream",
     "text": [
      "Distribution of Pos and Neg in trainingData is:  [Row(label=0.0, count=10245), Row(label=1.0, count=4724)]\n"
     ]
    }
   ],
   "source": [
    "t_model=time.time()\n",
    "x_train, x_test, y_train, y_test = train_test_split(x,y,test_size=.25, random_state=42)"
   ]
  },
  {
   "cell_type": "markdown",
   "metadata": {},
   "source": [
    "### Fit training data"
   ]
  },
  {
   "cell_type": "code",
   "execution_count": null,
   "metadata": {
    "collapsed": true
   },
   "outputs": [],
   "source": [
    "params = {           'nthread':-1,\n",
    "                      'seed' : 42,\n",
    "                      'colsample_bytree': 0.8,\n",
    "                      'subsample': 0.8, \n",
    "                      'learning_rate': 0.2,\n",
    "                      'max_depth': 7\n",
    "                       }\n",
    "dtrain = xgb.DMatrix(x_train.as_matrix(),label=y_train.as_matrix())\n",
    "dtest = xgb.DMatrix(x_test.as_matrix(),label=y_test.as_matrix())\n",
    "classifier = xgb.train(params, dtrain, num_boost_round=60)\n",
    "y_pred = classifier.predict(dtest)\n",
    "cm = confusion_matrix(y_test, (y_pred>0.5))\n",
    "predict_accuracy_on_test_set = (cm[0,0] + cm[1,1])/(cm[0,0] + cm[1,1]+cm[1,0] + cm[0,1])\n",
    "print (predict_accuracy_on_test_set)\n",
    "t_end=time.time()"
   ]
  },
  {
   "cell_type": "markdown",
   "metadata": {},
   "source": [
    "## Exporting Results"
   ]
  },
  {
   "cell_type": "code",
   "execution_count": 20,
   "metadata": {
    "collapsed": true
   },
   "outputs": [],
   "source": [
    "Overall_time=t_end-t_import\n",
    "Data_Extraction=t_Data_Prep-t_import\n",
    "Data_Preparation=t_model-t_Data_Prep\n",
    "Model=t_end-t_model\n",
    "\n",
    "result_df=pd.DataFrame({'Overall_time':[Overall_time],\n",
    "                       'Data_Extraction_time':[Data_Extraction],\n",
    "                       'Data_Prepartion':[Data_Preparation],\n",
    "                       'Model_time':[Model],\n",
    "                       'Accuracy':predict_accuracy_on_test_set})\n",
    "result_df.to_excel('Results_XGB_20k.xlsx')"
   ]
  }
 ],
 "metadata": {
  "kernelspec": {
   "display_name": "Python 3",
   "language": "python",
   "name": "python3"
  },
  "language_info": {
   "codemirror_mode": {
    "name": "ipython",
    "version": 3
   },
   "file_extension": ".py",
   "mimetype": "text/x-python",
   "name": "python",
   "nbconvert_exporter": "python",
   "pygments_lexer": "ipython3",
   "version": "3.6.3"
  },
  "toc": {
   "base_numbering": "1",
   "nav_menu": {},
   "number_sections": true,
   "sideBar": true,
   "skip_h1_title": true,
   "title_cell": "Table of Contents",
   "title_sidebar": "Contents",
   "toc_cell": false,
   "toc_position": {
    "height": "calc(100% - 180px)",
    "left": "10px",
    "top": "150px",
    "width": "344px"
   },
   "toc_section_display": true,
   "toc_window_display": true
  }
 },
 "nbformat": 4,
 "nbformat_minor": 2
}
